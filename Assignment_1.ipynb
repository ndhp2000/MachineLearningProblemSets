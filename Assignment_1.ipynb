{
  "nbformat": 4,
  "nbformat_minor": 0,
  "metadata": {
    "colab": {
      "name": "Assignment 1",
      "provenance": []
    },
    "kernelspec": {
      "name": "python3",
      "display_name": "Python 3"
    }
  },
  "cells": [
    {
      "cell_type": "markdown",
      "metadata": {
        "id": "dH48P5sjgGIz",
        "colab_type": "text"
      },
      "source": [
        "# **Python**\n"
      ]
    },
    {
      "cell_type": "markdown",
      "metadata": {
        "id": "HO9ReKkIgdST",
        "colab_type": "text"
      },
      "source": [
        "**Task 1:**\n",
        "\n",
        "Read two integers and print two lines. The first line should contain integer division,  // . The second line should contain float division,/.\n",
        "\n",
        "https://www.hackerrank.com/challenges/python-division/problem"
      ]
    },
    {
      "cell_type": "code",
      "metadata": {
        "id": "Zt-WK5fqbXXX",
        "colab_type": "code",
        "colab": {}
      },
      "source": [
        "if __name__ == '__main__':\n",
        "    a = int(input())\n",
        "    b = int(input())\n",
        "    print(a//b)\n",
        "    print(a/b)"
      ],
      "execution_count": 0,
      "outputs": []
    },
    {
      "cell_type": "markdown",
      "metadata": {
        "id": "152iuDBHg-f7",
        "colab_type": "text"
      },
      "source": [
        "**Task 2:**\n",
        "\n",
        "Read an integer . For all non-negative integers , print i^2 . See the sample for details.\n",
        "\n",
        "https://www.hackerrank.com/challenges/python-loops/problem\n"
      ]
    },
    {
      "cell_type": "code",
      "metadata": {
        "id": "DA5TV9DebqkK",
        "colab_type": "code",
        "colab": {}
      },
      "source": [
        "if __name__ == '__main__':\n",
        "    n = int(raw_input())\n",
        "    for i in range(n):\n",
        "        print(i*i)"
      ],
      "execution_count": 0,
      "outputs": []
    },
    {
      "cell_type": "markdown",
      "metadata": {
        "id": "VTIp6EuphXdr",
        "colab_type": "text"
      },
      "source": [
        "**Task 3:**\n",
        "\n",
        "Read an integer .\n",
        "\n",
        "Without using any string methods, try to print the following:\n",
        "\"1234...N\"\n",
        "\n",
        "https://www.hackerrank.com/challenges/python-print/problem"
      ]
    },
    {
      "cell_type": "code",
      "metadata": {
        "id": "VDiII99fhmar",
        "colab_type": "code",
        "colab": {}
      },
      "source": [
        "if __name__ == '__main__':\n",
        "    n = int(input())\n",
        "    for i in range(1,n+1):\n",
        "        print(i, end = '')"
      ],
      "execution_count": 0,
      "outputs": []
    },
    {
      "cell_type": "markdown",
      "metadata": {
        "id": "MdgaF8dxiQ9L",
        "colab_type": "text"
      },
      "source": [
        "**Task 4:**\n",
        "https://www.hackerrank.com/challenges/list-comprehensions/problem"
      ]
    },
    {
      "cell_type": "code",
      "metadata": {
        "colab_type": "code",
        "id": "iCfN5TUUiu8E",
        "colab": {}
      },
      "source": [
        "if __name__ == '__main__':\n",
        "    x = int(input())\n",
        "    y = int(input())\n",
        "    z = int(input())\n",
        "    n = int(input())\n",
        "    print([[i,j,k] for i in range(x+1) for j in range(y+1) for k in range(z+1) if (i+j+k!=n)])"
      ],
      "execution_count": 0,
      "outputs": []
    },
    {
      "cell_type": "markdown",
      "metadata": {
        "id": "7S6lD3aEi8u9",
        "colab_type": "text"
      },
      "source": [
        "**Task 5:**\n",
        "\n",
        "https://www.hackerrank.com/challenges/nested-list/problem"
      ]
    },
    {
      "cell_type": "code",
      "metadata": {
        "id": "lATbogWXi71m",
        "colab_type": "code",
        "colab": {}
      },
      "source": [
        "if __name__ == '__main__':\n",
        "    a = []\n",
        "    for _ in range(int(input())):\n",
        "        name = input()\n",
        "        score = float(input())\n",
        "        a.append([score,name])\n",
        "    a.sort(key = lambda x:x[0])\n",
        "    Second = 0\n",
        "    for i in range(1,len(a)):\n",
        "        if (a[i][0]!=a[i-1][0]):\n",
        "            Second = a[i][0]\n",
        "            break\n",
        "    b=[]\n",
        "    for x in a:\n",
        "        if (x[0]==Second):\n",
        "            b.append(x[1])\n",
        "    b.sort()\n",
        "    for x in b:\n",
        "        print(x)"
      ],
      "execution_count": 0,
      "outputs": []
    },
    {
      "cell_type": "markdown",
      "metadata": {
        "id": "ByLUrNv4_VL_",
        "colab_type": "text"
      },
      "source": [
        "# **SQL**\n"
      ]
    },
    {
      "cell_type": "markdown",
      "metadata": {
        "id": "yHMsYJxh_bWQ",
        "colab_type": "text"
      },
      "source": [
        "TASK 1:\n",
        "\n",
        "https://www.hackerrank.com/challenges/revising-the-select-query/problem"
      ]
    },
    {
      "cell_type": "code",
      "metadata": {
        "id": "xyk1JJX7_eh9",
        "colab_type": "code",
        "colab": {}
      },
      "source": [
        "SELECT *\n",
        "FROM CITY\n",
        "WHERE POPULATION>100000 AND COUNTRYCODE = 'USA'"
      ],
      "execution_count": 0,
      "outputs": []
    },
    {
      "cell_type": "markdown",
      "metadata": {
        "id": "kVLaBHbzACFK",
        "colab_type": "text"
      },
      "source": [
        "TASK 2:\n",
        "\n",
        "https://www.hackerrank.com/challenges/revising-the-select-query-2/problem\n"
      ]
    },
    {
      "cell_type": "code",
      "metadata": {
        "id": "ytZ8fjvHAN-B",
        "colab_type": "code",
        "colab": {}
      },
      "source": [
        "SELECT NAME\n",
        "FROM CITY\n",
        "WHERE POPULATION>120000 AND COUNTRYCODE = 'USA'"
      ],
      "execution_count": 0,
      "outputs": []
    },
    {
      "cell_type": "markdown",
      "metadata": {
        "id": "IVtfQs2IAVPy",
        "colab_type": "text"
      },
      "source": [
        "TASK 3:\n",
        "\n",
        "https://www.hackerrank.com/challenges/select-all-sql/problem"
      ]
    },
    {
      "cell_type": "code",
      "metadata": {
        "id": "ZwwRK8W4ATOi",
        "colab_type": "code",
        "colab": {}
      },
      "source": [
        "SELECT*\n",
        "FROM CITY"
      ],
      "execution_count": 0,
      "outputs": []
    },
    {
      "cell_type": "markdown",
      "metadata": {
        "id": "6M-xzns_AfXB",
        "colab_type": "text"
      },
      "source": [
        "TASK 4:\n",
        "\n",
        "https://www.hackerrank.com/challenges/select-by-id/problem"
      ]
    },
    {
      "cell_type": "code",
      "metadata": {
        "id": "jASmRFT7AwNS",
        "colab_type": "code",
        "colab": {}
      },
      "source": [
        "SELECT *\n",
        "FROM CITY\n",
        "WHERE ID = 1661"
      ],
      "execution_count": 0,
      "outputs": []
    },
    {
      "cell_type": "markdown",
      "metadata": {
        "id": "E7LDb5wvA6KH",
        "colab_type": "text"
      },
      "source": [
        "TASK 5:\n",
        "\n",
        "https://www.hackerrank.com/challenges/japanese-cities-attributes/problem"
      ]
    },
    {
      "cell_type": "code",
      "metadata": {
        "id": "E0w-CKtzA869",
        "colab_type": "code",
        "colab": {}
      },
      "source": [
        "SELECT *\n",
        "FROM CITY\n",
        "WHERE COUNTRYCODE = \"JPN\""
      ],
      "execution_count": 0,
      "outputs": []
    },
    {
      "cell_type": "markdown",
      "metadata": {
        "id": "RVFtb84XBLVq",
        "colab_type": "text"
      },
      "source": [
        "TASK 6:\n",
        "\n",
        "https://www.hackerrank.com/challenges/japanese-cities-name/problem"
      ]
    },
    {
      "cell_type": "code",
      "metadata": {
        "id": "736Rpfb7BQBo",
        "colab_type": "code",
        "colab": {}
      },
      "source": [
        "SELECT NAME\n",
        "FROM CITY\n",
        "WHERE COUNTRYCODE='JPN'"
      ],
      "execution_count": 0,
      "outputs": []
    },
    {
      "cell_type": "markdown",
      "metadata": {
        "id": "rzCp4MZtBTkF",
        "colab_type": "text"
      },
      "source": [
        "TASK 7:\n",
        "\n",
        "https://www.hackerrank.com/challenges/weather-observation-station-1/problem"
      ]
    },
    {
      "cell_type": "code",
      "metadata": {
        "id": "uVPT14tFCKjB",
        "colab_type": "code",
        "colab": {}
      },
      "source": [
        "SELECT CITY, STATE\n",
        "FROM STATION\n"
      ],
      "execution_count": 0,
      "outputs": []
    },
    {
      "cell_type": "markdown",
      "metadata": {
        "id": "K2M82nVvCR2p",
        "colab_type": "text"
      },
      "source": [
        "TASK 8:\n",
        "\n",
        "https://www.hackerrank.com/challenges/weather-observation-station-3/problem"
      ]
    },
    {
      "cell_type": "code",
      "metadata": {
        "id": "QpKe82cTCeBj",
        "colab_type": "code",
        "colab": {}
      },
      "source": [
        "SELECT DISTINCT CITY\n",
        "FROM STATION\n",
        "WHERE ID%2=0"
      ],
      "execution_count": 0,
      "outputs": []
    },
    {
      "cell_type": "markdown",
      "metadata": {
        "id": "n0ueudtlCpHD",
        "colab_type": "text"
      },
      "source": [
        "TASK 9:\n",
        "\n",
        "https://www.hackerrank.com/challenges/weather-observation-station-4/problem"
      ]
    },
    {
      "cell_type": "code",
      "metadata": {
        "id": "L5uwG1KnCj4T",
        "colab_type": "code",
        "colab": {}
      },
      "source": [
        "SELECT COUNT(CITY) - COUNT(DISTINCT CITY)\n",
        "FROM STATION\n"
      ],
      "execution_count": 0,
      "outputs": []
    },
    {
      "cell_type": "markdown",
      "metadata": {
        "id": "5ouL96fmCyfD",
        "colab_type": "text"
      },
      "source": [
        "TASK 10:\n",
        "\n",
        "https://www.hackerrank.com/challenges/salary-of-employees/problem"
      ]
    },
    {
      "cell_type": "code",
      "metadata": {
        "id": "dd3FdXENC0J8",
        "colab_type": "code",
        "colab": {}
      },
      "source": [
        "SELECT name \n",
        "FROM Employee\n",
        "WHERE salary>2000 AND months<10\n",
        "ORDER BY employee_id ASC"
      ],
      "execution_count": 0,
      "outputs": []
    }
  ]
}